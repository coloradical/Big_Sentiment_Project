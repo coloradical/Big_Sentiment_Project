{
 "cells": [
  {
   "cell_type": "code",
   "execution_count": 2,
   "metadata": {},
   "outputs": [],
   "source": [
    "import requests\n",
    "import json\n",
    "import time\n",
    "from requests_oauthlib import OAuth1\n",
    "from Crypto.Cipher import XOR\n",
    "import base64\n",
    "import sys\n",
    "import pprint\n",
    "from datetime import datetime\n",
    "\n",
    "def encrypt(key, plaintext):\n",
    "  cipher = XOR.new(key)\n",
    "  return base64.b64encode(cipher.encrypt(plaintext))\n",
    "\n",
    "def encodekeys(key,apikeys):\n",
    "    newkeys=[]\n",
    "    for i in range(len(apikeys)):\n",
    "        newkeys.append(encrypt(key,apikeys[i]))\n",
    "    return newkeys"
   ]
  },
  {
   "cell_type": "code",
   "execution_count": 4,
   "metadata": {},
   "outputs": [
    {
     "data": {
      "text/plain": [
       "[b'TAAvJgIVVhZcBQcECA1DGAwtDCMEETNXWA==',\n",
       " b'Fj0KER89Fw0NAx1ZIF4YPyArCBcoAxMFIw0BHyIBGDMiWA07OwRRJQIlHQsKDR4XAQo=',\n",
       " b'Q1xWVlhQW1NWXkZeU1lETkFbSBYGIAACC1ZELlUCJgsRPCw4UCobNyIjGQIWOSEOJD8=',\n",
       " b'Pgc1Eio1U1cvABEfNDoCGkYpC1Q4KTEIXBIXKx1WRUECWwk7C1ABIj0ARyof']"
      ]
     },
     "execution_count": 4,
     "metadata": {},
     "output_type": "execute_result"
    }
   ],
   "source": [
    "akey = [\"8hJDkr4w2bslmb1axEiAmvQ66\",\"bUosvZulcdi1E1jFTCmuAdqdMjuwGnjJV0hYRc3DlBicoblnub\",\"743417928926666753-toGbce10F0mTreTIZ9MyVLDmjsVSwPW\",\"JoPpCR16AgewQUpc2An6QNSi2ucCx978v3lYb7cCSg3Bz\"]\n",
    "encodekeys(\"thebigbangtheory\",akey)"
   ]
  },
  {
   "cell_type": "code",
   "execution_count": null,
   "metadata": {},
   "outputs": [],
   "source": []
  }
 ],
 "metadata": {
  "kernelspec": {
   "display_name": "Python 3",
   "language": "python",
   "name": "python3"
  },
  "language_info": {
   "codemirror_mode": {
    "name": "ipython",
    "version": 3
   },
   "file_extension": ".py",
   "mimetype": "text/x-python",
   "name": "python",
   "nbconvert_exporter": "python",
   "pygments_lexer": "ipython3",
   "version": "3.7.2"
  }
 },
 "nbformat": 4,
 "nbformat_minor": 2
}
